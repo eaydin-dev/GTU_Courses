{
 "cells": [
  {
   "cell_type": "code",
   "execution_count": 1,
   "metadata": {
    "collapsed": true,
    "deletable": true,
    "editable": true
   },
   "outputs": [],
   "source": [
    "import itertools\n",
    "from datetime import datetime\n",
    "\n",
    "import numpy as np\n",
    "import sklearn.svm\n",
    "from sklearn.model_selection import cross_val_score\n",
    "\n",
    "import prepare_data"
   ]
  },
  {
   "cell_type": "code",
   "execution_count": 2,
   "metadata": {
    "collapsed": false,
    "deletable": true,
    "editable": true
   },
   "outputs": [
    {
     "name": "stdout",
     "output_type": "stream",
     "text": [
      "data size: 100\n",
      "# features: 9\n",
      "Original classification result:\n",
      "[ 0.81818182  0.90909091  0.9         0.9         0.9         0.9         0.8\n",
      "  0.9         0.88888889  0.77777778]\n",
      "Mean: 0.869393939394 \n",
      "\n",
      "progress: 1 in 8\n",
      "progress: 2 in 8\n",
      "progress: 3 in 8\n",
      "progress: 4 in 8\n",
      "progress: 5 in 8\n",
      "progress: 6 in 8\n",
      "progress: 7 in 8\n",
      "progress: 8 in 8\n",
      "time: 0:00:10.751000 \n",
      "\n",
      "Result: 0.910505050505 for [1 3 4 5 6]\n"
     ]
    }
   ],
   "source": [
    "# part 1\n",
    "start = datetime.now()\n",
    "data, target = prepare_data.get('fertility.data')\n",
    "\n",
    "classifier = sklearn.svm.SVC()\n",
    "\n",
    "print 'Original classification result:'\n",
    "res = cross_val_score(classifier, data, target, cv=10)\n",
    "print res\n",
    "print 'Mean:', np.mean(res), '\\n'\n",
    "\n",
    "combinations = []\n",
    "transposed = data.T\n",
    "\n",
    "for i in range(1, len(data[0])):\n",
    "    for sub in itertools.combinations(range(0, len(data[0])), len(data[0])-i):\n",
    "        combinations.append(np.array(sub))\n",
    "\n",
    "results = []\n",
    "for i in range(1, len(data[0])):\n",
    "    print 'progress:', i, 'in', len(data[0])-1\n",
    "    subs = []\n",
    "    for sub in itertools.combinations(transposed, len(transposed)-i):\n",
    "        subs.append(np.array(sub))\n",
    "    for d in subs:\n",
    "        res = cross_val_score(classifier, d.T, target, cv=10)\n",
    "        results.append(np.mean(res))\n",
    "\n",
    "print 'time:', datetime.now()-start, '\\n'\n",
    "res_str = []\n",
    "for i in range(0, len(results)):\n",
    "    res_str.append(str(results[i]) + ' for ' + str(combinations[i]))\n",
    "\n",
    "res_str.sort()\n",
    "print 'Result:', res_str[len(res_str)-1]"
   ]
  },
  {
   "cell_type": "code",
   "execution_count": 3,
   "metadata": {
    "collapsed": false
   },
   "outputs": [
    {
     "name": "stdout",
     "output_type": "stream",
     "text": [
      "data size: 100\n",
      "# features: 9\n",
      "Feature ranking:\n",
      "1. feature 3 (0.169945)\n",
      "2. feature 5 (0.154131)\n",
      "3. feature 4 (0.151223)\n",
      "4. feature 2 (0.131572)\n",
      "5. feature 0 (0.110111)\n",
      "6. feature 1 (0.080421)\n",
      "7. feature 7 (0.077041)\n",
      "8. feature 6 (0.077014)\n",
      "9. feature 8 (0.048541)\n"
     ]
    }
   ],
   "source": [
    "# part 2\n",
    "from sklearn.ensemble import ExtraTreesClassifier\n",
    "\n",
    "data, target = prepare_data.get('fertility.data')\n",
    "forest = ExtraTreesClassifier(n_estimators=250, random_state=0)\n",
    "\n",
    "forest.fit(data, target)\n",
    "importances = forest.feature_importances_\n",
    "std = np.std([tree.feature_importances_ for tree in forest.estimators_], axis=0)\n",
    "indices = np.argsort(importances)[::-1]\n",
    "print(\"Feature ranking:\")\n",
    "for f in range(data.shape[1]):\n",
    "    print(\"%d. feature %d (%f)\" % (f + 1, indices[f], importances[indices[f]]))"
   ]
  },
  {
   "cell_type": "code",
   "execution_count": 4,
   "metadata": {
    "collapsed": false
   },
   "outputs": [
    {
     "name": "stdout",
     "output_type": "stream",
     "text": [
      "data size: 100\n",
      "# features: 9\n",
      "# attributes: 1 Mean: 0.881414141414\n",
      "# attributes: 2 Mean: 0.881414141414\n",
      "# attributes: 3 Mean: 0.871414141414\n",
      "# attributes: 4 Mean: 0.850303030303\n",
      "# attributes: 5 Mean: 0.850303030303\n",
      "# attributes: 6 Mean: 0.860303030303\n",
      "# attributes: 7 Mean: 0.869393939394\n",
      "# attributes: 8 Mean: 0.869393939394\n",
      "# attributes: 9 Mean: 0.869393939394\n"
     ]
    },
    {
     "data": {
      "image/png": "[encoded data removed]",
      "text/plain": [
       "<matplotlib.figure.Figure at 0x1c657b70>"
      ]
     },
     "metadata": {},
     "output_type": "display_data"
    }
   ],
   "source": [
    "# part 3\n",
    "from sklearn import decomposition\n",
    "import matplotlib.pyplot as plt\n",
    "\n",
    "data, target = prepare_data.get('fertility.data')\n",
    "classifier = sklearn.svm.SVC()\n",
    "acc_results = []\n",
    "\n",
    "for i in range(1, len(data[0]) + 1):\n",
    "    d = data\n",
    "    pca = decomposition.PCA(n_components=i)\n",
    "    pca.fit(d)\n",
    "    data_new = pca.transform(d)\n",
    "    res = sklearn.model_selection.cross_val_score(classifier, data_new, target, cv=10)\n",
    "    acc_results.append(np.mean(res))\n",
    "    print '# attributes:', i, 'Mean:', np.mean(res)\n",
    "\n",
    "plt.figure(1, figsize=(4, 3))\n",
    "plt.clf()\n",
    "plt.axes([.1, .1, .7, .7])\n",
    "plt.plot(acc_results, linewidth=1)\n",
    "plt.xlabel('n_components')\n",
    "plt.ylabel('accuracy')\n",
    "plt.show()"
   ]
  },
  {
   "cell_type": "code",
   "execution_count": null,
   "metadata": {
    "collapsed": true
   },
   "outputs": [],
   "source": []
  }
 ],
 "metadata": {
  "kernelspec": {
   "display_name": "Python 2",
   "language": "python",
   "name": "python2"
  },
  "language_info": {
   "codemirror_mode": {
    "name": "ipython",
    "version": 2
   },
   "file_extension": ".py",
   "mimetype": "text/x-python",
   "name": "python",
   "nbconvert_exporter": "python",
   "pygments_lexer": "ipython2",
   "version": "2.7.12"
  }
 },
 "nbformat": 4,
 "nbformat_minor": 0
}
