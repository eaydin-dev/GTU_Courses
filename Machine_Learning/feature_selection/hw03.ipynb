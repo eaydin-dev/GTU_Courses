{
 "cells": [
  {
   "cell_type": "code",
   "execution_count": null,
   "metadata": {
    "collapsed": true
   },
   "outputs": [],
   "source": [
    "import itertools\n",
    "from datetime import datetime\n",
    "\n",
    "import numpy as np\n",
    "import sklearn.svm\n",
    "from sklearn.model_selection import cross_val_score\n",
    "\n",
    "import prepare_data"
   ]
  },
  {
   "cell_type": "code",
   "execution_count": null,
   "metadata": {},
   "outputs": [],
   "source": [
    "# part 1\n",
    "start = datetime.now()\n",
    "data, target = prepare_data.get('fertility.data')\n",
    "\n",
    "classifier = sklearn.svm.SVC()\n",
    "\n",
    "print 'Original classification result:'\n",
    "res = cross_val_score(classifier, data, target, cv=10)\n",
    "print res\n",
    "print 'Mean:', np.mean(res), '\\n'\n",
    "\n",
    "combinations = []\n",
    "transposed = data.T\n",
    "\n",
    "for i in range(1, len(data[0])):\n",
    "    for sub in itertools.combinations(range(0, len(data[0])), len(data[0])-i):\n",
    "        combinations.append(np.array(sub))\n",
    "\n",
    "results = []\n",
    "for i in range(1, len(data[0])):\n",
    "    print 'progress:', i, 'in', len(data[0])-1\n",
    "    subs = []\n",
    "    for sub in itertools.combinations(transposed, len(transposed)-i):\n",
    "        subs.append(np.array(sub))\n",
    "    for d in subs:\n",
    "        res = cross_val_score(classifier, d.T, target, cv=10)\n",
    "        results.append(np.mean(res))\n",
    "\n",
    "print 'time:', datetime.now()-start, '\\n'\n",
    "res_str = []\n",
    "for i in range(0, len(results)):\n",
    "    res_str.append(str(results[i]) + ' for ' + str(combinations[i]))\n",
    "\n",
    "res_str.sort()\n",
    "print 'Result:', res_str[len(res_str)-1]"
   ]
  }
 ],
 "metadata": {
  "kernelspec": {
   "display_name": "Python 2",
   "language": "python",
   "name": "python2"
  },
  "language_info": {
   "codemirror_mode": {
    "name": "ipython",
    "version": 2.0
   },
   "file_extension": ".py",
   "mimetype": "text/x-python",
   "name": "python",
   "nbconvert_exporter": "python",
   "pygments_lexer": "ipython2",
   "version": "2.7.6"
  }
 },
 "nbformat": 4,
 "nbformat_minor": 0
}