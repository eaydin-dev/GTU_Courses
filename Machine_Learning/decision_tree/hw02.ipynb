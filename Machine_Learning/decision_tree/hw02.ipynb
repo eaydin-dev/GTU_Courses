{
 "cells": [
  {
   "cell_type": "markdown",
   "metadata": {
    "deletable": true,
    "editable": true
   },
   "source": [
    "# Regression Tree"
   ]
  },
  {
   "cell_type": "markdown",
   "metadata": {
    "deletable": true,
    "editable": true
   },
   "source": [
    "We need to load the data first."
   ]
  },
  {
   "cell_type": "code",
   "execution_count": 1,
   "metadata": {
    "collapsed": false,
    "deletable": true,
    "editable": true
   },
   "outputs": [
    {
     "name": "stdout",
     "output_type": "stream",
     "text": [
      "[3, 4, 'sep', 'fri', 92.1, 99.0, 745.3, 9.6, 17.4, 57, 4.5, 0.0, 0.0]\n",
      "[2, 4, 'aug', 'sun', 92.0, 203.2, 664.5, 8.1, 24.9, 42, 5.4, 0.0, 2.44]\n",
      "[8, 6, 'aug', 'thu', 91.6, 248.4, 753.8, 6.3, 20.4, 56, 2.2, 0.0, 0.0]\n",
      "[2, 2, 'aug', 'thu', 91.6, 248.4, 753.8, 6.3, 20.4, 56, 2.2, 0.0, 0.0]\n",
      "[4, 3, 'jul', 'thu', 93.5, 85.3, 395.0, 9.9, 27.2, 28, 1.3, 0.0, 1.76]\n",
      "[6, 3, 'apr', 'sun', 91.0, 14.6, 25.6, 12.3, 13.7, 33, 9.4, 0.0, 61.13]\n",
      "[1, 4, 'sep', 'sun', 89.6, 84.1, 714.3, 5.7, 19.0, 52, 2.2, 0.0, 0.0]\n",
      "[2, 2, 'aug', 'tue', 94.8, 108.3, 647.1, 17.0, 17.4, 43, 6.7, 0.0, 1.07]\n",
      "[3, 4, 'aug', 'sun', 94.9, 130.3, 587.1, 14.1, 23.4, 40, 5.8, 0.0, 1.29]\n",
      "[6, 6, 'aug', 'mon', 96.2, 175.5, 661.8, 16.8, 23.9, 42, 2.2, 0.0, 0.0]\n"
     ]
    }
   ],
   "source": [
    "def load_data(path):\n",
    "    file_ptr = open(path, \"r\")\n",
    "    text = file_ptr.read()\n",
    "    rows = text.splitlines()\n",
    "    rows = rows[1:]  # skip name row\n",
    "\n",
    "    result = []\n",
    "    for row in rows:\n",
    "        values = row.split(',')\n",
    "        l = [int(values[0]), int(values[1]), values[2], values[3], float(values[4]), float(values[5]), float(values[6]),\n",
    "             float(values[7]), float(values[8]), int(values[9]), float(values[10]), float(values[11]),\n",
    "             float(values[12])]\n",
    "\n",
    "        result.append(l)\n",
    "\n",
    "    file_ptr.close()\n",
    "    return result\n",
    "\n",
    "\n",
    "# load data and show a sample\n",
    "from random import shuffle\n",
    "data = load_data('forestfires.csv')\n",
    "shuffle(data)\n",
    "for row in data[:10]:\n",
    "    print row"
   ]
  },
  {
   "cell_type": "markdown",
   "metadata": {
    "deletable": true,
    "editable": true
   },
   "source": [
    "In decision tree, we simply simply put each rule into a node. Here is our node."
   ]
  },
  {
   "cell_type": "code",
   "execution_count": 2,
   "metadata": {
    "collapsed": true,
    "deletable": true,
    "editable": true
   },
   "outputs": [],
   "source": [
    "class Node:\n",
    "    def __init__(self, col=-1, value=None, results=None, tb=None, fb=None):\n",
    "        self.col = col              # column index of the criteria to be tested\n",
    "        self.value = value          # the value that column must match to be result true\n",
    "        self.results = results      # keeps results for this branch as dictionary\n",
    "        self.tb = tb                # true branch\n",
    "        self.fb = fb                # false branch"
   ]
  },
  {
   "cell_type": "markdown",
   "metadata": {
    "deletable": true,
    "editable": true
   },
   "source": [
    "DT training means splitting the data."
   ]
  },
  {
   "cell_type": "code",
   "execution_count": 15,
   "metadata": {
    "collapsed": false,
    "deletable": true,
    "editable": true
   },
   "outputs": [
    {
     "name": "stdout",
     "output_type": "stream",
     "text": [
      "[['abc', 'TR', 'yes', 132], ['sdf', 'RT', 'yes', 233], ['werf', 'TR', 'yes', 84], ['g54', 'RT', 'yes', 1823], ['abc', 'RT', 'yes', 159], ['g54', 'UK', 'yes', 55], ['abc', 'RT', 'yes', 159], ['g54', 'UK', 'yes', 546], ['abc', 'RT', 'yes', 159], ['g54', 'UK', 'yes', 178], ['sdf', 'RT', 'yes', 159], ['g54', 'RT', 'yes', 546], ['g54', 'UK', 'yes', 5467]]\n",
      "\n",
      "[['sdf', 'TR', 'no', 321], ['abc', 'TR', 'no', 244], ['werf', 'TR', 'no', 168], ['g54', 'UK', 'no', 211], ['sdf', 'TR', 'no', 321], ['abc', 'TR', 'no', 244], ['sdf', 'TR', 'no', 321], ['abc', 'TR', 'no', 244], ['werf', 'TR', 'no', 168], ['g54', 'UK', 'no', 178], ['sdf', 'RT', 'no', 419], ['sdf', 'TR', 'no', 321], ['abc', 'TR', 'no', 244], ['werf', 'TR', 'no', 123], ['g54', 'UK', 'no', 211], ['sdf', 'TR', 'no', 56879], ['abc', 'TR', 'no', 234], ['sdf', 'TR', 'no', 1245], ['abc', 'TR', 'no', 699], ['werf', 'TR', 'no', 168], ['sdf', 'RT', 'no', 1234]]\n"
     ]
    }
   ],
   "source": [
    "# this function splits a set on a column. it can handle both numeric and nominal values\n",
    "def split_set(rows, column, value):\n",
    "    if isinstance(value, int) or isinstance(value, float):      # check if this is a numeric value\n",
    "        true_set = [row for row in rows if row[column] >= value]\n",
    "        false_set = [row for row in rows if not row[column] >= value]\n",
    "    else:\n",
    "        true_set = [row for row in rows if row[column] == value]\n",
    "        false_set = [row for row in rows if not row[column] == value]\n",
    "\n",
    "    return (true_set, false_set)\n",
    "\n",
    "\n",
    "# test of split_set\n",
    "my_data=[['abc','TR','yes',132],\n",
    "['sdf','RT','yes',233],\n",
    "['werf','TR','yes',84],\n",
    "['g54','RT','yes',1823],\n",
    "['sdf','TR','no',321],\n",
    "['abc','TR','no',244],\n",
    "['abc','RT','yes',159],\n",
    "['werf','TR','no',168],\n",
    "['g54','UK','yes',55],\n",
    "['g54','UK','no',211],\n",
    "['sdf','TR','no',321],\n",
    "['abc','TR','no',244],\n",
    "['abc','RT','yes',159],\n",
    "['g54','UK','yes',546],\n",
    "['sdf','TR','no',321],\n",
    "['abc','TR','no',244],\n",
    "['werf','TR','no',168],\n",
    "['g54','UK','no',178],\n",
    "['sdf','RT','no',419],\n",
    "['sdf','TR','no',321],\n",
    "['abc','TR','no',244],\n",
    "['abc','RT','yes',159],\n",
    "['werf','TR','no',123],\n",
    "['g54','UK','yes',178],\n",
    "['g54','UK','no',211],\n",
    "['sdf','TR','no',56879],\n",
    "['abc','TR','no',234],\n",
    "['sdf','RT','yes',159],\n",
    "['g54','RT','yes',546],\n",
    "['sdf','TR','no',1245],\n",
    "['abc','TR','no',699],\n",
    "['werf','TR','no',168],\n",
    "['g54','UK','yes',5467],\n",
    "['sdf','RT','no',1234]]\n",
    "\n",
    "t, f = split_set(my_data, 2, 'yes')\n",
    "print t # print matching data\n",
    "print \n",
    "print f # print other part of the data"
   ]
  },
  {
   "cell_type": "markdown",
   "metadata": {
    "deletable": true,
    "editable": true
   },
   "source": [
    "While building a decision tree, we must know how much mixed a subtree. To do this, first we need to count the different results."
   ]
  },
  {
   "cell_type": "code",
   "execution_count": 5,
   "metadata": {
    "collapsed": true,
    "deletable": true,
    "editable": true
   },
   "outputs": [],
   "source": [
    "def unique_counts(rows):\n",
    "    results = {}\n",
    "    for row in rows:\n",
    "        r = row[len(row) - 1]\n",
    "        if r not in results: \n",
    "            results[r] = 0\n",
    "        results[r] += 1\n",
    "\n",
    "    return results"
   ]
  },
  {
   "cell_type": "markdown",
   "metadata": {
    "deletable": true,
    "editable": true
   },
   "source": [
    "To find how mixed a list is, we could use variance as a metric because we are trying to regress. (gini index and entropy are the other choises for the classification)"
   ]
  },
  {
   "cell_type": "code",
   "execution_count": 7,
   "metadata": {
    "collapsed": false,
    "deletable": true,
    "editable": true,
    "scrolled": true
   },
   "outputs": [
    {
     "name": "stdout",
     "output_type": "stream",
     "text": [
      "301204.4375 5747.71900826\n"
     ]
    }
   ],
   "source": [
    "def variance(rows):\n",
    "    if len(rows) == 0:\n",
    "        return 0\n",
    "    data = [float(row[len(row) - 1]) for row in rows]\n",
    "    mean = sum(data) / len(data)\n",
    "    return sum([(d - mean) ** 2 for d in data]) / len(data)\n",
    "\n",
    "\n",
    "t, f = split_set(my_data, 2, 'yes')\n",
    "v = variance(t)\n",
    "v2 = variance(f)\n",
    "\n",
    "print str(v), str(v2) # print variance value of each set"
   ]
  },
  {
   "cell_type": "markdown",
   "metadata": {
    "deletable": true,
    "editable": true
   },
   "source": [
    "Now time to build the tree. Information gain used to pick the attribute to split."
   ]
  },
  {
   "cell_type": "code",
   "execution_count": 8,
   "metadata": {
    "collapsed": false,
    "deletable": true,
    "editable": true
   },
   "outputs": [
    {
     "name": "stdout",
     "output_type": "stream",
     "text": [
      "1:RT? \n",
      "T-> 0:g54? \n",
      " T-> {546: 1, 1823: 1}\n",
      " F-> 2:yes? \n",
      "  T-> 0:sdf? \n",
      "   T-> {233: 1}\n",
      "   F-> {159: 2}\n",
      "  F-> {419: 1}\n",
      "F-> 0:sdf? \n",
      " T-> {321: 3}\n",
      " F-> 2:yes? \n",
      "  T-> 0:werf? \n",
      "   T-> {84: 1}\n",
      "   F-> 0:abc? \n",
      "    T-> {132: 1}\n",
      "    F-> {178: 1}\n",
      "  F-> 0:abc? \n",
      "   T-> {244: 3}\n",
      "   F-> 0:werf? \n",
      "    T-> {168: 2}\n",
      "    F-> {178: 1, 211: 1}\n"
     ]
    }
   ],
   "source": [
    "def build_tree(rows):\n",
    "    if len(rows) == 0: \n",
    "        return Node()\n",
    "    \n",
    "    current_score = variance(rows)\n",
    "\n",
    "    best_gain = 0.0\n",
    "    best_criteria = None\n",
    "    best_sets = None\n",
    "    column_count = len(rows[0]) - 1\n",
    "    for col in range(0, column_count):\n",
    "        # get the different values in this col\n",
    "        column_values = {}\n",
    "        for row in rows:\n",
    "            column_values[row[col]] = 1\n",
    "\n",
    "        # divide this column\n",
    "        for value in column_values.keys():\n",
    "            (set1, set2) = split_set(rows, col, value)\n",
    "            p = float(len(set1)) / len(rows)  # information gain\n",
    "            gain = current_score - p * variance(set1) - (1 - p) * variance(set2)\n",
    "            if gain > best_gain and len(set1) > 0 and len(set2) > 0:  # a better one\n",
    "                best_gain = gain\n",
    "                best_criteria = (col, value)\n",
    "                best_sets = (set1, set2)\n",
    "\n",
    "    # create the subbranches\n",
    "    if best_gain > 0:\n",
    "        true_branch = build_tree(best_sets[0])\n",
    "        false_branch = build_tree(best_sets[1])\n",
    "        return Node(col=best_criteria[0], value=best_criteria[1], tb=true_branch, fb=false_branch)\n",
    "    else:\n",
    "        return Node(results=unique_counts(rows))\n",
    "\n",
    "\n",
    "#So we built the tree but it would be nice to see it.\n",
    "def print_tree(tree, indent=''):\n",
    "    if tree.results is not None: # leaf node?\n",
    "        print str(tree.results)\n",
    "    else:\n",
    "        print str(tree.col) + ':' + str(tree.value) + '? ' # criteria\n",
    "        print indent + 'T->',\n",
    "        print_tree(tree.tb, indent + ' ') # true branch\n",
    "        print indent + 'F->',\n",
    "        print_tree(tree.fb, indent + ' ') # false branch\n",
    "\n",
    "tree = build_tree(my_data) # build the tree\n",
    "print_tree(tree) # print the tree"
   ]
  },
  {
   "cell_type": "markdown",
   "metadata": {
    "deletable": true,
    "editable": true
   },
   "source": [
    "So our tree is ready. A method is needed to classify new instances"
   ]
  },
  {
   "cell_type": "code",
   "execution_count": 11,
   "metadata": {
    "collapsed": false,
    "deletable": true,
    "editable": true
   },
   "outputs": [
    {
     "name": "stdout",
     "output_type": "stream",
     "text": [
      "{178: 1}\n"
     ]
    }
   ],
   "source": [
    "def classify(observation, tree):\n",
    "    if tree.results is not None:\n",
    "        return tree.results\n",
    "    else:\n",
    "        v = observation[tree.col]\n",
    "        branch = None\n",
    "        if isinstance(v, int) or isinstance(v, float):\n",
    "            if v >= tree.value:\n",
    "                branch = tree.tb\n",
    "            else:\n",
    "                branch = tree.fb\n",
    "        else:\n",
    "            if v == tree.value:\n",
    "                branch = tree.tb\n",
    "            else:\n",
    "                branch = tree.fb\n",
    "        return classify(observation, branch)\n",
    "\n",
    "res = classify(['g54','UK','yes',178], tree)\n",
    "print res # this result means that the result must be 123 and our tree saw it once."
   ]
  },
  {
   "cell_type": "markdown",
   "metadata": {
    "collapsed": true,
    "deletable": true,
    "editable": true
   },
   "source": [
    "Now this tree learned the data too much. We need to prune it."
   ]
  },
  {
   "cell_type": "code",
   "execution_count": 16,
   "metadata": {
    "collapsed": false,
    "deletable": true,
    "editable": true
   },
   "outputs": [
    {
     "name": "stdout",
     "output_type": "stream",
     "text": [
      "0:sdf? \n",
      "T-> 1:RT? \n",
      " T-> 2:yes? \n",
      "  T-> {233: 1, 159: 1}\n",
      "  F-> {1234: 1, 419: 1}\n",
      " F-> {321: 4, 1245: 1, 56879: 1}\n",
      "F-> 0:g54? \n",
      " T-> 2:yes? \n",
      "  T-> 1:UK? \n",
      "   T-> {546: 1, 5467: 1, 178: 1, 55: 1}\n",
      "   F-> {546: 1, 1823: 1}\n",
      "  F-> {178: 1, 211: 2}\n",
      " F-> 2:no? \n",
      "  T-> 0:abc? \n",
      "   T-> {234: 1, 699: 1, 244: 4}\n",
      "   F-> {168: 3, 123: 1}\n",
      "  F-> 0:abc? \n",
      "   T-> 1:RT? \n",
      "    T-> {159: 3}\n",
      "    F-> {132: 1}\n",
      "   F-> {84: 1}\n",
      "\n",
      "0:sdf? \n",
      "T-> 1:RT? \n",
      " T-> 2:yes? \n",
      "  T-> {233: 1, 159: 1}\n",
      "  F-> {1234: 1, 419: 1}\n",
      " F-> {321: 4, 1245: 1, 56879: 1}\n",
      "F-> 0:g54? \n",
      " T-> {546: 2, 178: 2, 211: 2, 55: 1, 5467: 1, 1823: 1}\n",
      " F-> 2:no? \n",
      "  T-> {168: 3, 123: 1, 234: 1, 699: 1, 244: 4}\n",
      "  F-> 0:abc? \n",
      "   T-> 1:RT? \n",
      "    T-> {159: 3}\n",
      "    F-> {132: 1}\n",
      "   F-> {84: 1}\n"
     ]
    }
   ],
   "source": [
    "# this algorithm checks if the merge of pair of branch would increase the variance less than a threshold\n",
    "def prune(tree, min_gain):\n",
    "    # if the branches are not leaf, prune them\n",
    "    if tree.tb.results == None:\n",
    "        prune(tree.tb, min_gain)\n",
    "    if tree.fb.results == None:\n",
    "        prune(tree.fb, min_gain)\n",
    "    \n",
    "    # if both the subbranches are leaf, check if they should merged\n",
    "    if tree.tb.results != None and tree.fb.results != None:\n",
    "        tb, fb = [], []\n",
    "        for v, c in tree.tb.results.items():\n",
    "            tb += [[v]] * c\n",
    "        for v, c in tree.fb.results.items():\n",
    "            fb += [[v]] * c \n",
    "        delta = variance(tb + fb) - (variance(tb) + variance(fb) / 2) # test the reduction in variance\n",
    "        if delta < min_gain: # merge\n",
    "            tree.tb, tree.fb = None, None\n",
    "            tree.results = unique_counts(tb + fb)\n",
    "\n",
    "\n",
    "# test\n",
    "tree = build_tree(my_data)\n",
    "print_tree(tree) # print the full learned tree\n",
    "print\n",
    "tree = build_tree(my_data)\n",
    "prune(tree, 0.05)\n",
    "print_tree(tree) # print the pruned version of the tree"
   ]
  },
  {
   "cell_type": "code",
   "execution_count": 18,
   "metadata": {
    "collapsed": true,
    "deletable": true,
    "editable": true
   },
   "outputs": [],
   "source": [
    "# a helper method to be used for k-fold cross validation.\n",
    "# concatanates the lists in lists parameter, except the e'th list.\n",
    "def concat_lists(lists, e):\n",
    "    res_list = []\n",
    "    for i in range(0, len(lists)):\n",
    "        if i != e:\n",
    "            res_list += lists[i]\n",
    "\n",
    "    return res_list"
   ]
  },
  {
   "cell_type": "code",
   "execution_count": 19,
   "metadata": {
    "collapsed": true,
    "deletable": true,
    "editable": true
   },
   "outputs": [],
   "source": [
    "# while the classify() method returns the result set, we need to decide how to use this set.\n",
    "# for example, we could take the most frequent result in result set. but this is a regression task \n",
    "# so it would be meaningles and wrong.\n",
    "# instead, i take average of the result as the actual result. this method finds the average of the result set.\n",
    "def dict_mean(d):\n",
    "    divide_num = sum(d.values())\n",
    "    num_to_divide = sum(d.keys())\n",
    "    return num_to_divide / divide_num"
   ]
  },
  {
   "cell_type": "markdown",
   "metadata": {
    "deletable": true,
    "editable": true
   },
   "source": [
    "To measure the quality of the regressor, I implemented the k-fold cross validation with the mean square error metric."
   ]
  },
  {
   "cell_type": "code",
   "execution_count": 20,
   "metadata": {
    "collapsed": false,
    "deletable": true,
    "editable": true
   },
   "outputs": [
    {
     "name": "stdout",
     "output_type": "stream",
     "text": [
      "k 1: 65196728\n",
      "k 2: 48949982\n",
      "k 3: 353380522\n",
      "[65196728, 48949982, 353380522L]\n",
      "avg: 155842410\n"
     ]
    }
   ],
   "source": [
    "def k_fold_cross_validation(k, rows):\n",
    "    from random import shuffle\n",
    "    shuffle(rows)\n",
    "    length = len(rows) / k\n",
    "    chunks = [rows[x:x + length] for x in xrange(0, len(rows), length)]\n",
    "\n",
    "    res_lst = []\n",
    "\n",
    "    for i in range(0, k):\n",
    "        local_total = 0\n",
    "        test_set = []\n",
    "        test_set += chunks[i]\n",
    "        train_set = concat_lists(chunks, i)\n",
    "        tree = build_tree(train_set)\n",
    "        prune(tree, 1.0)\n",
    "\n",
    "        for entry in test_set:\n",
    "            question = entry[:len(entry) - 1]\n",
    "            ans = entry[len(entry) - 1]\n",
    "            res = classify(question, tree)\n",
    "            res = dict_mean(res)  # res.items()[0][0]\n",
    "            # print res\n",
    "            local_total += (res - ans) ** 2\n",
    "\n",
    "        r = local_total / (len(test_set) - 2)\n",
    "        print 'k', str(i + 1) + ':', r\n",
    "        res_lst.append(r)\n",
    "\n",
    "    print res_lst\n",
    "    print 'avg:', str(sum(res_lst) / len(res_lst))\n",
    "    \n",
    "# call for k-fold cross validation:\n",
    "k_fold_cross_validation(3, my_data)"
   ]
  },
  {
   "cell_type": "markdown",
   "metadata": {
    "deletable": true,
    "editable": true
   },
   "source": [
    "Note that the data that used above was fully fictional. So the mean square results are pretty bad."
   ]
  },
  {
   "cell_type": "markdown",
   "metadata": {
    "collapsed": true,
    "deletable": true,
    "editable": true
   },
   "source": [
    "So we have everyting we need. Let's run the k-fold cross validation with our \"Forest Fires\" data. It will create trees and evaluate it for k=10 times."
   ]
  },
  {
   "cell_type": "code",
   "execution_count": 22,
   "metadata": {
    "collapsed": false
   },
   "outputs": [
    {
     "name": "stdout",
     "output_type": "stream",
     "text": [
      "k 1: 12565.6294596\n",
      "k 2: 2092.13488262\n",
      "k 3: 12410.8685864\n",
      "k 4: 12558.0260981\n",
      "k 5: 484.712258881\n",
      "k 6: 1320.28937006\n",
      "k 7: 4208.95745348\n",
      "k 8: 11686.1840698\n",
      "k 9: 4075.26404082\n",
      "k 10: 24952.5742535\n",
      "[12565.629459553587, 2092.134882617599, 12410.868586419381, 12558.02609812348, 484.7122588805513, 1320.289370057953, 4208.957453481139, 11686.184069804536, 4075.2640408219922, 24952.574253484698]\n",
      "avg: 8635.46404732\n"
     ]
    }
   ],
   "source": [
    "data = load_data('forestfires.csv')\n",
    "k_fold_cross_validation(10, data)"
   ]
  },
  {
   "cell_type": "markdown",
   "metadata": {},
   "source": [
    "Same dataset used with the sklearn's decision tree regressor. The results are in the report."
   ]
  }
 ],
 "metadata": {
  "kernelspec": {
   "display_name": "Python 2",
   "language": "python",
   "name": "python2"
  },
  "language_info": {
   "codemirror_mode": {
    "name": "ipython",
    "version": 2
   },
   "file_extension": ".py",
   "mimetype": "text/x-python",
   "name": "python",
   "nbconvert_exporter": "python",
   "pygments_lexer": "ipython2",
   "version": "2.7.12"
  }
 },
 "nbformat": 4,
 "nbformat_minor": 0
}
